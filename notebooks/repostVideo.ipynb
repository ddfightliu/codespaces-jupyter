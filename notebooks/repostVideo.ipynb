{
 "cells": [
  {
   "cell_type": "code",
   "execution_count": 30,
   "metadata": {},
   "outputs": [],
   "source": [
    "from displayVideo import *"
   ]
  },
  {
   "cell_type": "code",
   "execution_count": 31,
   "metadata": {},
   "outputs": [
    {
     "ename": "TypeError",
     "evalue": "displayVideo() takes 0 positional arguments but 1 was given",
     "output_type": "error",
     "traceback": [
      "\u001b[1;31m---------------------------------------------------------------------------\u001b[0m",
      "\u001b[1;31mTypeError\u001b[0m                                 Traceback (most recent call last)",
      "Cell \u001b[1;32mIn[31], line 1\u001b[0m\n\u001b[1;32m----> 1\u001b[0m displayVideo(\u001b[39m'\u001b[39;49m\u001b[39mF:\u001b[39;49m\u001b[39m\\\u001b[39;49m\u001b[39mmygitproj\u001b[39;49m\u001b[39m\\\u001b[39;49m\u001b[39mcodespaces-jupyter\u001b[39;49m\u001b[39m\\\u001b[39;49m\u001b[39mmedia\u001b[39;49m\u001b[39m\\\u001b[39;49m\u001b[39m[Nekomoe kissaten][Rebirth][22][720p][CHS].mp4\u001b[39;49m\u001b[39m'\u001b[39;49m)\n",
      "\u001b[1;31mTypeError\u001b[0m: displayVideo() takes 0 positional arguments but 1 was given"
     ]
    }
   ],
   "source": [
    "displayVideo('F:\\mygitproj\\codespaces-jupyter\\media\\[Nekomoe kissaten][Rebirth][22][720p][CHS].mp4')"
   ]
  },
  {
   "cell_type": "code",
   "execution_count": null,
   "metadata": {},
   "outputs": [],
   "source": []
  }
 ],
 "metadata": {
  "kernelspec": {
   "display_name": ".venv",
   "language": "python",
   "name": "python3"
  },
  "language_info": {
   "codemirror_mode": {
    "name": "ipython",
    "version": 3
   },
   "file_extension": ".py",
   "mimetype": "text/x-python",
   "name": "python",
   "nbconvert_exporter": "python",
   "pygments_lexer": "ipython3",
   "version": "3.11.2"
  },
  "orig_nbformat": 4
 },
 "nbformat": 4,
 "nbformat_minor": 2
}
