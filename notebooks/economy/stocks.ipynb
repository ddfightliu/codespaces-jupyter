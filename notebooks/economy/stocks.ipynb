{
 "cells": [
  {
   "cell_type": "code",
   "execution_count": 1,
   "metadata": {},
   "outputs": [],
   "source": [
    "import pandas as pd\n",
    "import akshare as ak\n",
    "import kplot as kp"
   ]
  },
  {
   "cell_type": "code",
   "execution_count": 2,
   "metadata": {},
   "outputs": [],
   "source": [
    "\n",
    "# from pyecharts.globals import CurrentConfig,NotebookType\n",
    "# CurrentConfig.NOTEBOOK_TYPE = NotebookType.JUPYTER_NOTEBOOK\n"
   ]
  },
  {
   "cell_type": "code",
   "execution_count": 3,
   "metadata": {},
   "outputs": [],
   "source": [
    "class StockCharts:\n",
    "    def __init__(self):\n",
    "        self.chart_dict = {}\n",
    "    def keys(self):\n",
    "        return self.chart_dict.keys()\n",
    "    def plot(self,symbol, period=\"daily\", adjust=\"qfq\"):\n",
    "        if symbol not in self.chart_dict:\n",
    "            stock_data = ak.stock_zh_a_hist(symbol=symbol, period=period, adjust=adjust)\n",
    "            self.chart_dict[symbol] = kp.draw_kline_chart(*kp.akshare_data_to_kline(stock_data), title=\"symbol: \"+symbol)\n",
    "        self.chart_dict[symbol].render()\n",
    "scd=StockCharts()"
   ]
  },
  {
   "cell_type": "code",
   "execution_count": 4,
   "metadata": {},
   "outputs": [],
   "source": [
    "\n",
    "scd.plot(\"000002\")"
   ]
  },
  {
   "cell_type": "code",
   "execution_count": 5,
   "metadata": {},
   "outputs": [
    {
     "data": {
      "text/plain": [
       "'d:\\\\ddfight-git-project\\\\codespaces-jupyter\\\\notebooks\\\\economy\\\\render.html'"
      ]
     },
     "execution_count": 5,
     "metadata": {},
     "output_type": "execute_result"
    }
   ],
   "source": [
    "scd.chart_dict[\"000002\"].render()"
   ]
  },
  {
   "cell_type": "code",
   "execution_count": null,
   "metadata": {},
   "outputs": [],
   "source": []
  }
 ],
 "metadata": {
  "kernelspec": {
   "display_name": ".venv",
   "language": "python",
   "name": "python3"
  },
  "language_info": {
   "codemirror_mode": {
    "name": "ipython",
    "version": 3
   },
   "file_extension": ".py",
   "mimetype": "text/x-python",
   "name": "python",
   "nbconvert_exporter": "python",
   "pygments_lexer": "ipython3",
   "version": "3.12.9"
  }
 },
 "nbformat": 4,
 "nbformat_minor": 2
}
