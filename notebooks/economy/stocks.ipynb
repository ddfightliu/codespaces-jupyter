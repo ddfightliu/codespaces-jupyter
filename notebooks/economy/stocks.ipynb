{
 "cells": [
  {
   "cell_type": "code",
   "execution_count": 45,
   "metadata": {},
   "outputs": [],
   "source": [
    "import sys\n",
    "sys.dont_write_bytecode = True\n",
    "import pandas as pd\n",
    "# import kplot as kp"
   ]
  },
  {
   "cell_type": "code",
   "execution_count": null,
   "metadata": {},
   "outputs": [],
   "source": [
    "# from pyecharts.charts import Kline\n",
    "from pyecharts.charts import Kline, Bar, Grid\n",
    "from pyecharts import options as opts\n",
    "import akshare as ak\n",
    "import pandas as pd\n",
    "\n",
    "# from pyecharts.globals import CurrentConfig,NotebookType\n",
    "# CurrentConfig.NOTEBOOK_TYPE = NotebookType.JUPYTER_LAB\n",
    "\n",
    "from typing import List, Tuple, Dict, Any, Union, Optional\n",
    "\n",
    "\n",
    "def trans_aksdat_to_echartdat(df_data: pd.DataFrame) -> Tuple[List, List, List, List]:\n",
    "    \"\"\" \"\"\"\n",
    "    kline_data = df_data[[\"开盘\", \"收盘\", \"最低\", \"最高\"]].values.tolist()\n",
    "    date = df_data[\"日期\"].values.tolist()\n",
    "    volumn_data = df_data[[\"成交量\"]].values.tolist()\n",
    "    value_data = df_data[[\"成交额\"]].values.tolist()\n",
    "    return date, kline_data, volumn_data, value_data\n",
    "\n",
    "\n",
    "def draw_kline(\n",
    "    date, kline_data, yaxis_name=\"Price\", title=\"Stock K-Line Chart\", markline=None\n",
    ") -> Kline:\n",
    "    \"\"\" \"\"\"\n",
    "    kline = (\n",
    "        Kline()\n",
    "        .add_xaxis(date)\n",
    "        .add_yaxis(\n",
    "            yaxis_name,\n",
    "            y_axis=kline_data,\n",
    "            markline_opts=opts.MarkLineOpts(\n",
    "                data=(\n",
    "                    [\n",
    "                        opts.MarkLineItem(type_=\"max\", name=\"Max\"),\n",
    "                        opts.MarkLineItem(type_=\"min\", name=\"Min\"),\n",
    "                    ]\n",
    "                    if markline\n",
    "                    else None\n",
    "                ),\n",
    "            ),\n",
    "        )\n",
    "        .set_global_opts(\n",
    "            title_opts=opts.TitleOpts(title=title),\n",
    "            xaxis_opts=opts.AxisOpts(type_=\"category\", is_scale=True),\n",
    "            yaxis_opts=opts.AxisOpts(\n",
    "                type_=\"value\",\n",
    "                is_scale=True,\n",
    "            ),\n",
    "            datazoom_opts=[opts.DataZoomOpts(type_=\"inside\"), opts.DataZoomOpts()],\n",
    "            tooltip_opts=opts.TooltipOpts(trigger=\"axis\", axis_pointer_type=\"cross\"),\n",
    "        )\n",
    "    )\n",
    "    return kline\n",
    "\n",
    "\n",
    "def draw_bar(date, volumn_data, yaxis_name=\"Volume\", title=\"Stock Volume Chart\") -> Bar:\n",
    "    bar = (\n",
    "        Bar().add_xaxis(date).add_yaxis(yaxis_name, y_axis=volumn_data)\n",
    "    ).set_global_opts(\n",
    "        xaxis_opts=opts.AxisOpts(type_=\"category\", is_scale=True),\n",
    "        yaxis_opts=opts.AxisOpts(type_=\"value\", is_scale=True),\n",
    "        tooltip_opts=opts.TooltipOpts(trigger=\"axis\", axis_pointer_type=\"vertical\"),\n",
    "        datazoom_opts=[opts.DataZoomOpts(type_=\"inside\"), opts.DataZoomOpts()],\n",
    "    )\n",
    "\n",
    "    return bar\n",
    "\n",
    "\n",
    "class kchartDict(dict):\n",
    "    def __init__(self, *args, **kwargs):\n",
    "        super().__init__(*args, **kwargs)\n",
    "\n",
    "    def getData(self, symbol, period=\"daily\", adjust=\"qfq\", **kwargs):\n",
    "        self[symbol] = ak.stock_zh_a_hist(symbol, period, adjust, **kwargs)\n",
    "        return self[symbol]\n",
    "\n",
    "    def plot_aks(self, symbol, period=\"daily\", adjust=\"qfq\", **kwargs):\n",
    "        if symbol not in self.keys():\n",
    "            self.getData(symbol, period, adjust, **kwargs)\n",
    "        date, kline_data, volumn_data, value_data = trans_aksdat_to_echartdat(\n",
    "            self[symbol]\n",
    "        )\n",
    "\n",
    "        kline = draw_kline(\n",
    "            date, kline_data, symbol, title=\"stock \" + symbol + \" Kline Chart\"\n",
    "        )\n",
    "\n",
    "        volumn_bar = draw_bar(\n",
    "            date,\n",
    "            volumn_data,\n",
    "        )\n",
    "\n",
    "        grid = (\n",
    "            Grid(init_opts=opts.InitOpts(width=\"900px\", height=\"600px\"))\n",
    "            .add(\n",
    "                kline,\n",
    "                grid_opts=opts.GridOpts(pos_bottom=\"30%\"),\n",
    "                is_control_axis_index=True,\n",
    "            )\n",
    "            .add(\n",
    "                volumn_bar,\n",
    "                grid_opts=opts.GridOpts(pos_top=\"70%\"),\n",
    "            )\n",
    "        )\n",
    "        grid.render()\n",
    "        return grid"
   ]
  },
  {
   "cell_type": "code",
   "execution_count": 98,
   "metadata": {},
   "outputs": [],
   "source": [
    "kchart = kchartDict()\n"
   ]
  },
  {
   "cell_type": "code",
   "execution_count": 99,
   "metadata": {},
   "outputs": [
    {
     "data": {
      "text/plain": [
       "<pyecharts.charts.composite_charts.grid.Grid at 0x20818f7fad0>"
      ]
     },
     "execution_count": 99,
     "metadata": {},
     "output_type": "execute_result"
    }
   ],
   "source": [
    "kchart.plot_aks(symbol='000002',period='monthly')\n"
   ]
  }
 ],
 "metadata": {
  "kernelspec": {
   "display_name": ".venv",
   "language": "python",
   "name": "python3"
  },
  "language_info": {
   "codemirror_mode": {
    "name": "ipython",
    "version": 3
   },
   "file_extension": ".py",
   "mimetype": "text/x-python",
   "name": "python",
   "nbconvert_exporter": "python",
   "pygments_lexer": "ipython3",
   "version": "3.12.9"
  }
 },
 "nbformat": 4,
 "nbformat_minor": 2
}
